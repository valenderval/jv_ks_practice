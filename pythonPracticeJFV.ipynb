{
  "nbformat": 4,
  "nbformat_minor": 0,
  "metadata": {
    "colab": {
      "provenance": [],
      "authorship_tag": "ABX9TyOQ10WCrhDUcyepCR46/Bar",
      "include_colab_link": true
    },
    "kernelspec": {
      "name": "python3",
      "display_name": "Python 3"
    },
    "language_info": {
      "name": "python"
    }
  },
  "cells": [
    {
      "cell_type": "markdown",
      "metadata": {
        "id": "view-in-github",
        "colab_type": "text"
      },
      "source": [
        "<a href=\"https://colab.research.google.com/github/valenderval/jv_ks_practice/blob/main/pythonPracticeJFV.ipynb\" target=\"_parent\"><img src=\"https://colab.research.google.com/assets/colab-badge.svg\" alt=\"Open In Colab\"/></a>"
      ]
    },
    {
      "cell_type": "markdown",
      "source": [
        "#Dice Practice"
      ],
      "metadata": {
        "id": "3bbxImhmVo4p"
      }
    },
    {
      "cell_type": "markdown",
      "source": [
        "Begin by creating a Frequency 'dictionary' to store each score value\n",
        "\n",
        "---\n",
        "\n",
        "\n",
        "\n",
        "To create six sided die we will need to import the random Library.\n",
        "\n",
        "---\n",
        "\n",
        "roll = random.randint(1,6) creates a six sided dice object and rolls it.\n",
        "\n",
        "\n",
        "---\n",
        "score = roll1 + roll2 this takes the values of each and stores them in 'score'\n",
        "\n",
        "\n",
        "---\n",
        "store these in a for loop\n",
        "for _ in range(100): this will iterate each roll 100 times.\n",
        "\n",
        "---\n",
        "print(f\"{'Score':<10} {'Frequency':>5}\") this prints the value of score in a left column with 10 characters and Frequncy on the right with 5.\n",
        "\n",
        "\n",
        "---\n",
        "//for score, frequency in frequencies.items(): <br>\n",
        "print(f\"{score:<10} {frequency:>5}\") <br>this will print the results.\n",
        "\n"
      ],
      "metadata": {
        "id": "4x1DENdfVtJY"
      }
    },
    {
      "cell_type": "markdown",
      "source": [
        "#Required Imports"
      ],
      "metadata": {
        "id": "ISHFtzPoUcLX"
      }
    },
    {
      "cell_type": "code",
      "execution_count": 1,
      "metadata": {
        "id": "zhtXJ3zQT9fw"
      },
      "outputs": [],
      "source": [
        "import random"
      ]
    },
    {
      "cell_type": "markdown",
      "source": [
        "# Initialize a dictionary to store the frequencies of each score value"
      ],
      "metadata": {
        "id": "xGdeenhbU6MT"
      }
    },
    {
      "cell_type": "code",
      "source": [
        "frequencies = {score: 0 for score in range(2, 13)}"
      ],
      "metadata": {
        "id": "KF8n-lo0U-ei"
      },
      "execution_count": 2,
      "outputs": []
    },
    {
      "cell_type": "markdown",
      "source": [
        "# Simulate 100 rolls of two six-sided dice"
      ],
      "metadata": {
        "id": "SO6RZjgUVGnj"
      }
    },
    {
      "cell_type": "code",
      "source": [
        "for _ in range(100):\n",
        "    roll1 = random.randint(1, 6)\n",
        "    roll2 = random.randint(1, 6)\n",
        "    score = roll1 + roll2\n",
        "    frequencies[score] += 1"
      ],
      "metadata": {
        "id": "soE_J_qHVKVS"
      },
      "execution_count": 3,
      "outputs": []
    },
    {
      "cell_type": "markdown",
      "source": [
        "# Print the frequencies of each score value"
      ],
      "metadata": {
        "id": "X09bjTWOVRUN"
      }
    },
    {
      "cell_type": "code",
      "source": [
        "print(f\"{'Score':<10} {'Frequency':>5}\")\n",
        "for score, frequency in frequencies.items():\n",
        "    print(f\"{score:<10} {frequency:>5}\")"
      ],
      "metadata": {
        "colab": {
          "base_uri": "https://localhost:8080/"
        },
        "id": "x0a2QqoeVV6h",
        "outputId": "d141b28d-c7da-4056-8589-3f9fd65d3cc0"
      },
      "execution_count": 4,
      "outputs": [
        {
          "output_type": "stream",
          "name": "stdout",
          "text": [
            "Score      Frequency\n",
            "2              1\n",
            "3              2\n",
            "4              5\n",
            "5             12\n",
            "6             28\n",
            "7             15\n",
            "8             14\n",
            "9              8\n",
            "10             8\n",
            "11             6\n",
            "12             1\n"
          ]
        }
      ]
    }
  ]
}